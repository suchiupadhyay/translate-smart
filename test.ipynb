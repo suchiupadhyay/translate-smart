{
 "cells": [
  {
   "cell_type": "code",
   "execution_count": 1,
   "id": "1449c8af",
   "metadata": {},
   "outputs": [
    {
     "name": "stdout",
     "output_type": "stream",
     "text": [
      "200\n",
      "प्रश्न?\n",
      "अर्थगत खोज (सीमांटिक सर्च)\n",
      "संदर्भ पुनर्प्राप्ति (कॉन्टेक्स्ट रिट्रीवल)\n",
      "एम्बेडिंग मॉडल\n",
      "आउटपुट\n",
      "घना सदिश (डेंस वेक्टर)\n",
      "समानता खोज (सिमिलैरिटी सर्च)\n",
      "इलास्टिकसर्च\n",
      "समान अनुच्छेद (सिमिलर पैसेजेस)\n",
      "LLM (बड़ा भाषा मॉडल)\n",
      "प्रॉम्प्ट\n",
      "LangChain क्या है?\n",
      "\n",
      "LangChain एक Python लाइब्रेरी है जो LLMs के साथ बातचीत करने का एक सरल और सहज तरीका प्रदान करती है। यह डेवलपर्स को LLMs की अंतर्निहित जटिलताओं के बारे में चिंता किए बिना अपने अनुप्रयोगों के निर्माण पर ध्यान केंद्रित करने की अनुमति देती है।\n",
      "\n",
      "मुख्य विशेषताएँ:\n",
      "\n",
      "1. मॉड्यूलर आर्किटेक्चर: LangChain में एक मॉड्यूलर डिज़ाइन है, जिससे इसे विभिन्न LLMs के साथ एकीकृत करना और विशिष्ट उपयोग मामलों के लिए अनुकूलित करना आसान हो जाता है।\n",
      "\n"
     ]
    }
   ],
   "source": [
    "import requests\n",
    "\n",
    "url = \"https://translate-smart.onrender.com/translate-pdf/\"\n",
    "files = {'file': open('test1_lc.pdf', 'rb')}\n",
    "data = {'lang': 'hindi'}\n",
    "\n",
    "response = requests.post(url, files=files, data=data)\n",
    "\n",
    "print(response.status_code)\n",
    "print(response.text)  # or response.content if binary"
   ]
  },
  {
   "cell_type": "code",
   "execution_count": null,
   "id": "3b2f72b2",
   "metadata": {},
   "outputs": [],
   "source": []
  }
 ],
 "metadata": {
  "kernelspec": {
   "display_name": "translation_task_new",
   "language": "python",
   "name": "python3"
  },
  "language_info": {
   "codemirror_mode": {
    "name": "ipython",
    "version": 3
   },
   "file_extension": ".py",
   "mimetype": "text/x-python",
   "name": "python",
   "nbconvert_exporter": "python",
   "pygments_lexer": "ipython3",
   "version": "3.9.19"
  }
 },
 "nbformat": 4,
 "nbformat_minor": 5
}
